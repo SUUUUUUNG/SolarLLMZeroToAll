{
 "cells": [
  {
   "cell_type": "code",
   "execution_count": 1,
   "metadata": {},
   "outputs": [],
   "source": [
    "! pip3 install -qU langchain-upstage"
   ]
  },
  {
   "cell_type": "code",
   "execution_count": 2,
   "metadata": {},
   "outputs": [],
   "source": [
    "\n",
    "%load_ext dotenv\n",
    "%dotenv\n",
    "# set UPSTAGE_API_KEY"
   ]
  },
  {
   "cell_type": "code",
   "execution_count": 3,
   "metadata": {},
   "outputs": [],
   "source": [
    "import warnings\n",
    "\n",
    "warnings.filterwarnings(\"ignore\")"
   ]
  },
  {
   "cell_type": "code",
   "execution_count": 4,
   "metadata": {},
   "outputs": [
    {
     "data": {
      "text/plain": [
       "'DUS (Distributed Universal System) is developed from Upstage, which is a web-based platform for creating and sharing interactive stories and games. DUS is an open-source project that aims to provide a flexible and extensible framework for building distributed applications. It is built on top of the Upstage platform and includes additional features such as support for multiple users, real-time collaboration, and distributed data storage. DUS is designed to be modular and customizable, allowing developers to easily add new features and functionality as needed.'"
      ]
     },
     "execution_count": 4,
     "metadata": {},
     "output_type": "execute_result"
    }
   ],
   "source": [
    "from langchain_core.output_parsers import StrOutputParser\n",
    "from langchain_core.prompts import PromptTemplate\n",
    "from langchain_upstage import ChatUpstage\n",
    "\n",
    "llm = ChatUpstage()\n",
    "prompt_template = PromptTemplate.from_template(\n",
    "    \"\"\"\n",
    "Q: What is DUS developed from Upstage?\n",
    "\n",
    "A:\n",
    "\"\"\"\n",
    ")\n",
    "chain = prompt_template | llm | StrOutputParser()\n",
    "chain.invoke({}) # 유창하지만 100프로 구라다.."
   ]
  },
  {
   "cell_type": "code",
   "execution_count": 5,
   "metadata": {},
   "outputs": [
    {
     "data": {
      "text/plain": [
       "\"DUS (Distributed Understanding System) is a machine learning framework developed by Google that is designed to enable the creation of large-scale, distributed machine learning models. It is built on top of TensorFlow, Google's open-source machine learning library, and is used by Google to train some of the largest machine learning models in the world.\\n\\nDUS is designed to be highly scalable and efficient, and it is optimized for training models on large datasets using distributed computing resources. It is used by Google to train models for a variety of applications, including natural language processing, computer vision, and speech recognition.\\n\\nDUS is not a standalone product, but rather a framework that is used by Google's internal machine learning teams to build and train their own models. It is not available for public use, but Google has released a number of other machine learning tools and libraries, such as TensorFlow and TensorFlow Lite, that are available for use by developers and researchers.\""
      ]
     },
     "execution_count": 5,
     "metadata": {},
     "output_type": "execute_result"
    }
   ],
   "source": [
    "from langchain_core.output_parsers import StrOutputParser\n",
    "from langchain_core.prompts import PromptTemplate\n",
    "from langchain_upstage import ChatUpstage\n",
    "\n",
    "llm = ChatUpstage()\n",
    "prompt_template = PromptTemplate.from_template(\n",
    "    \"\"\"\n",
    "Q: What is DUS developed from Google?\n",
    "\n",
    "A:\n",
    "\"\"\"\n",
    ")\n",
    "chain = prompt_template | llm | StrOutputParser()\n",
    "chain.invoke({}) # 쫌 더 길게 말하지만 다 구라임 무조건 뭐라도(token) 말하는 시스템이라서"
   ]
  },
  {
   "cell_type": "markdown",
   "metadata": {},
   "source": [
    "![hallucination](figures/hallucination.png)"
   ]
  },
  {
   "cell_type": "markdown",
   "metadata": {},
   "source": [
    "## Next Token Prediction\n",
    "They are designed to generate the next words. It's also very difficult to know what we don't know.\n",
    "\n",
    "![](https://jalammar.github.io/images/xlnet/gpt-2-autoregression-2.gif)\n",
    "\n",
    "Image from https://jalammar.github.io/illustrated-gpt2/"
   ]
  },
  {
   "cell_type": "markdown",
   "metadata": {},
   "source": [
    "# Excercise \n",
    "\n",
    "Think of ways to prevent Large Language Models (LLMs) from generating incorrect information."
   ]
  }
 ],
 "metadata": {
  "kernelspec": {
   "display_name": ".venv",
   "language": "python",
   "name": "python3"
  },
  "language_info": {
   "codemirror_mode": {
    "name": "ipython",
    "version": 3
   },
   "file_extension": ".py",
   "mimetype": "text/x-python",
   "name": "python",
   "nbconvert_exporter": "python",
   "pygments_lexer": "ipython3",
   "version": "3.12.3"
  }
 },
 "nbformat": 4,
 "nbformat_minor": 2
}
