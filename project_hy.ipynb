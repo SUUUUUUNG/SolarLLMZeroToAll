{
 "cells": [
  {
   "cell_type": "code",
   "execution_count": 1,
   "metadata": {},
   "outputs": [],
   "source": [
    "! pip3 install -qU langchain-upstage  requests python-dotenv"
   ]
  },
  {
   "cell_type": "code",
   "execution_count": 2,
   "metadata": {},
   "outputs": [],
   "source": [
    "%load_ext dotenv\n",
    "%dotenv"
   ]
  },
  {
   "cell_type": "code",
   "execution_count": 3,
   "metadata": {},
   "outputs": [],
   "source": [
    "import warnings\n",
    "\n",
    "warnings.filterwarnings(\"ignore\")"
   ]
  },
  {
   "cell_type": "code",
   "execution_count": 5,
   "metadata": {},
   "outputs": [],
   "source": [
    "from langchain_upstage import ChatUpstage\n",
    "llm = ChatUpstage()"
   ]
  },
  {
   "cell_type": "code",
   "execution_count": 11,
   "metadata": {},
   "outputs": [],
   "source": [
    "from langchain_core.prompts import ChatPromptTemplate\n",
    "from langchain_core.prompts import PromptTemplate\n",
    "from langchain_core.output_parsers import StrOutputParser"
   ]
  },
  {
   "cell_type": "code",
   "execution_count": 13,
   "metadata": {},
   "outputs": [
    {
     "data": {
      "text/plain": [
       "'늘은 주말인데 출근을 했다. 나는 주말에 일하면서 가족과 함께 시간을 보낼 수 없다는 생각에 슬펐다.\\n\\n주말에 일을 하면서도, 가족과의 시간을 최대한 활용하기 위해 노력한다.\\n- '"
      ]
     },
     "execution_count": 13,
     "metadata": {},
     "output_type": "execute_result"
    }
   ],
   "source": [
    "prompt_template1 = PromptTemplate.from_template(\n",
    "    \"\"\"\n",
    "   Step1 : 다음 문장으로 시작하는 소설을 3줄 정도 전개해줘. {text}\n",
    "\n",
    "   Step2 : 위 3줄 이후 소설 전개를 4가지 서로 다른 전개방향으로 후보를 다음의 형식대로 제시해 줘. 각 선택은 1줄로 표현.\n",
    "        - 선택1\n",
    "        - 선택2\n",
    "        - 선택3\n",
    "        - 선택4\n",
    "   \n",
    "\"\"\"\n",
    ")\n",
    "chain = prompt_template1 | llm | StrOutputParser()\n",
    "select_1st = chain.invoke({\"text\": \"오늘은 주말인데 출근을 했다.\"})\n",
    "select_1st\n",
    "\n",
    "selected_1st = 3\n",
    "if selected_1st == 4:\n",
    "    next_input = select_1st[select_1st.find(\"Step1\")+7:select_1st.find(\"Step2\")] + select_1st[select_1st.find(\"선택\" + str(selected_1st))+5:]\n",
    "else:\n",
    "    next_input = select_1st[select_1st.find(\"Step1\")+7:select_1st.find(\"Step2\")] + select_1st[select_1st.find(\"선택\" + str(selected_1st))+5:select_1st.find(\"선택\" + str(selected_1st+1))]\n",
    "next_input\n",
    "\n",
    "llm = ChatUpstage()\n",
    "prompt_template1 = PromptTemplate.from_template(\n",
    "    \"\"\"\n",
    "   Step1 : 다음 문장으로 시작하는 소설을 3줄 정도 전개해줘. {text}\n",
    "\n",
    "   Step2 : 위 3줄 이후 소설 전개를 4가지 서로 다른 전개방향으로 후보를 다음의 형식대로 제시해 줘. 각 선택은 1줄로 표현.\n",
    "        - 선택1\n",
    "        - 선택2\n",
    "        - 선택3\n",
    "        - 선택4\n",
    "   \n",
    "\"\"\"\n",
    ")\n",
    "chain = prompt_template1 | llm | StrOutputParser()\n",
    "select_2nd = chain.invoke({\"text\": next_input})\n",
    "select_2nd\n",
    "\n",
    "\n",
    "selected_2nd = 3\n",
    "if selected_2nd == 4:\n",
    "    next_input = select_2nd[select_2nd.find(\"Step1\")+8:select_2nd.find(\"Step2\")] + select_2nd[select_2nd.find(\"선택\" + str(selected_2nd))+5:]\n",
    "else:\n",
    "    next_input = select_2nd[select_2nd.find(\"Step1\")+8:select_2nd.find(\"Step2\")] + select_2nd[select_2nd.find(\"선택\" + str(selected_2nd))+5:select_2nd.find(\"선택\" + str(selected_2nd+1))]\n",
    "next_input"
   ]
  }
 ],
 "metadata": {
  "kernelspec": {
   "display_name": "Python 3",
   "language": "python",
   "name": "python3"
  },
  "language_info": {
   "codemirror_mode": {
    "name": "ipython",
    "version": 3
   },
   "file_extension": ".py",
   "mimetype": "text/x-python",
   "name": "python",
   "nbconvert_exporter": "python",
   "pygments_lexer": "ipython3",
   "version": "3.12.3"
  }
 },
 "nbformat": 4,
 "nbformat_minor": 2
}
