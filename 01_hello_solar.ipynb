{
 "cells": [
  {
   "cell_type": "code",
   "execution_count": 1,
   "metadata": {},
   "outputs": [],
   "source": [
    "! pip3 install -qU langchain-upstage  requests python-dotenv"
   ]
  },
  {
   "cell_type": "markdown",
   "metadata": {},
   "source": [
    "## UPSTAGE_API_KEY\n",
    "To obtain your Upstage API key, follow these steps:\n",
    "\n",
    "1. Visit the Upstage AI console at <https://console.upstage.ai>.\n",
    "2. Sign up for an account if you don't already have one.\n",
    "3. Log in to your account.\n",
    "4. Navigate to the API key section.\n",
    "5. Generate your API key.\n",
    "6. Copy the key and save it securely.\n",
    "\n",
    "![Console](./figures/console.upstage.ai.jpg)"
   ]
  },
  {
   "cell_type": "code",
   "execution_count": 2,
   "metadata": {},
   "outputs": [],
   "source": [
    "%load_ext dotenv\n",
    "%dotenv\n",
    "# set UPSTAGE_API_KEY in .env file\n",
    "# UPSTAGE_API_KEY=your_api_key"
   ]
  },
  {
   "cell_type": "code",
   "execution_count": 3,
   "metadata": {},
   "outputs": [],
   "source": [
    "import warnings\n",
    "\n",
    "warnings.filterwarnings(\"ignore\")"
   ]
  },
  {
   "cell_type": "code",
   "execution_count": 4,
   "metadata": {},
   "outputs": [
    {
     "name": "stdout",
     "output_type": "stream",
     "text": [
      "('In a galaxy far, far away, there was a planet called Alderaan, known for its '\n",
      " 'lush greenery and peaceful inhabitants. The planet was ruled by a wise and '\n",
      " 'benevolent queen named Leia Organa. She was loved by all, and her people '\n",
      " 'lived in harmony with each other and with nature.\\n'\n",
      " '\\n'\n",
      " 'One day, a dark force threatened the peace of Alderaan. A powerful Sith Lord '\n",
      " 'named Darth Vader, along with his army of stormtroopers, invaded the planet. '\n",
      " 'They sought to destroy the Jedi Order and take control of the galaxy.\\n'\n",
      " '\\n'\n",
      " 'Queen Leia knew that she had to act quickly to save her people. She gathered '\n",
      " 'a group of brave rebels, including a young pilot named Luke Skywalker, a '\n",
      " 'wise old Jedi named Obi-Wan Kenobi, and a rogue smuggler named Han Solo. '\n",
      " 'Together, they formed the Rebel Alliance, determined to defeat the evil '\n",
      " 'Empire and restore peace to the galaxy.\\n'\n",
      " '\\n'\n",
      " \"The Rebel Alliance launched a daring attack on the Empire's ultimate weapon, \"\n",
      " 'the Death Star, a massive space station capable of destroying entire '\n",
      " 'planets. Luke, Han, and their friends infiltrated the Death Star, facing '\n",
      " 'numerous challenges and obstacles along the way.\\n'\n",
      " '\\n'\n",
      " 'In the end, Luke used the power of the Force to destroy the Death Star, '\n",
      " 'dealing a significant blow to the Empire. The Rebel Alliance emerged '\n",
      " 'victorious, and the galaxy was saved from the clutches of darkness.\\n'\n",
      " '\\n'\n",
      " 'Queen Leia was hailed as a hero, and the Rebel Alliance continued to fight '\n",
      " 'against the Empire, eventually leading to its downfall. The galaxy was once '\n",
      " 'again at peace, and the people of Alderaan lived happily under the rule of '\n",
      " 'their beloved queen.\\n'\n",
      " '\\n'\n",
      " 'And so, the legend of Queen Leia Organa and the Rebel Alliance lived on, '\n",
      " 'inspiring generations to come to stand up against tyranny and fight for '\n",
      " 'freedom and justice.')\n"
     ]
    }
   ],
   "source": [
    "import os\n",
    "from openai import OpenAI\n",
    "from pprint import pprint\n",
    "\n",
    "client = OpenAI(\n",
    "    api_key=os.environ[\"UPSTAGE_API_KEY\"], base_url=\"https://api.upstage.ai/v1/solar\"\n",
    ")\n",
    "chat_result = client.chat.completions.create(\n",
    "    model=\"solar-1-mini-chat\",\n",
    "    messages=[\n",
    "        {\"role\": \"system\", \"content\": \"Once Upon a Time in A Galaxy Far, Far, Away ...\"},\n",
    "    ],\n",
    ")\n",
    "\n",
    "pprint(chat_result.choices[0].message.content)"
   ]
  },
  {
   "cell_type": "code",
   "execution_count": 5,
   "metadata": {},
   "outputs": [
    {
     "name": "stdout",
     "output_type": "stream",
     "text": [
      "('There are many great places to visit in Seoul, but some of the most popular '\n",
      " 'tourist destinations include Gyeongbokgung Palace, Bukchon Hanok Village, '\n",
      " 'Myeong-dong shopping district, and Namsan Tower. You can also visit the DMZ, '\n",
      " 'a demilitarized zone between North and South Korea, for a unique and '\n",
      " 'educational experience.')\n"
     ]
    }
   ],
   "source": [
    "chat_result = client.chat.completions.create(\n",
    "    model=\"solar-1-mini-chat\",\n",
    "    messages=[\n",
    "        {\"role\": \"system\", \"content\": \"Can you tell me good place to vision in Seoul?\"},\n",
    "    ],\n",
    ")\n",
    "\n",
    "pprint(chat_result.choices[0].message.content)"
   ]
  },
  {
   "cell_type": "markdown",
   "metadata": {},
   "source": [
    "![Langchain](figures/langchain.jpg)\n",
    "\n",
    "https://python.langchain.com/v0.1/docs/integrations/providers/upstage/"
   ]
  },
  {
   "cell_type": "code",
   "execution_count": 6,
   "metadata": {},
   "outputs": [
    {
     "data": {
      "text/plain": [
       "AIMessage(content='The best season to learn Korean depends on your personal preferences and goals. Here are some factors to consider when deciding the best season for you:\\n\\n1. Time availability: If you have more free time during a specific season, that might be the best time for you to start learning Korean.\\n2. Weather: Some people find it easier to focus on learning during certain weather conditions. For example, if you prefer warmer weather, you might find it easier to study during the summer.\\n3. Motivation: If you have a specific goal or motivation for learning Korean, such as traveling to Korea or watching Korean dramas, that might be the best time to start learning.\\n4. Learning style: If you prefer a more structured learning environment, you might find it helpful to start learning during a season when you have more time to dedicate to structured study sessions.\\n\\nUltimately, the best season to learn Korean is the one that works best for you and your schedule.', response_metadata={'token_usage': {'completion_tokens': 207, 'prompt_tokens': 21, 'total_tokens': 228}, 'model_name': 'solar-1-mini-chat', 'system_fingerprint': None, 'finish_reason': 'stop', 'logprobs': None}, id='run-679d6a29-5a26-44c3-80d5-e1f81bad8ff7-0')"
      ]
     },
     "execution_count": 6,
     "metadata": {},
     "output_type": "execute_result"
    }
   ],
   "source": [
    "# Quick hello world (hye I'm HY)\n",
    "from langchain_upstage import ChatUpstage\n",
    "llm = ChatUpstage()\n",
    "llm.invoke(\"What's the best season to get to Korean?\")"
   ]
  },
  {
   "cell_type": "code",
   "execution_count": 7,
   "metadata": {},
   "outputs": [
    {
     "data": {
      "text/plain": [
       "(1, 4096)"
      ]
     },
     "execution_count": 7,
     "metadata": {},
     "output_type": "execute_result"
    }
   ],
   "source": [
    "from langchain_upstage import UpstageEmbeddings\n",
    "\n",
    "embeddings_model = UpstageEmbeddings(model=\"solar-embedding-1-large\")\n",
    "embeddings = embeddings_model.embed_documents(\n",
    "    [\n",
    "        \"Whay is the best season to visit Korea?\",\n",
    "    ])\n",
    "\n",
    "len(embeddings), len(embeddings[0])\n",
    "\n",
    "# 잘못깔았나"
   ]
  }
 ],
 "metadata": {
  "kernelspec": {
   "display_name": ".venv",
   "language": "python",
   "name": "python3"
  },
  "language_info": {
   "codemirror_mode": {
    "name": "ipython",
    "version": 3
   },
   "file_extension": ".py",
   "mimetype": "text/x-python",
   "name": "python",
   "nbconvert_exporter": "python",
   "pygments_lexer": "ipython3",
   "version": "3.12.3"
  }
 },
 "nbformat": 4,
 "nbformat_minor": 2
}
