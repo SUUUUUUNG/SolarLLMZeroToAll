{
 "cells": [
  {
   "cell_type": "code",
   "execution_count": 1,
   "metadata": {},
   "outputs": [],
   "source": [
    "! pip3 install -qU langchain-upstage  requests python-dotenv"
   ]
  },
  {
   "cell_type": "markdown",
   "metadata": {},
   "source": [
    "## UPSTAGE_API_KEY\n",
    "To obtain your Upstage API key, follow these steps:\n",
    "\n",
    "1. Visit the Upstage AI console at <https://console.upstage.ai>.\n",
    "2. Sign up for an account if you don't already have one.\n",
    "3. Log in to your account.\n",
    "4. Navigate to the API key section.\n",
    "5. Generate your API key.\n",
    "6. Copy the key and save it securely.\n",
    "\n",
    "![Console](./figures/console.upstage.ai.jpg)"
   ]
  },
  {
   "cell_type": "code",
   "execution_count": 5,
   "metadata": {},
   "outputs": [
    {
     "name": "stdout",
     "output_type": "stream",
     "text": [
      "The dotenv extension is already loaded. To reload it, use:\n",
      "  %reload_ext dotenv\n"
     ]
    }
   ],
   "source": [
    "%load_ext dotenv\n",
    "%dotenv\n",
    "# set UPSTAGE_API_KEY in .env file\n",
    "# UPSTAGE_API_KEY=your_api_key"
   ]
  },
  {
   "cell_type": "code",
   "execution_count": 6,
   "metadata": {},
   "outputs": [],
   "source": [
    "import warnings\n",
    "\n",
    "warnings.filterwarnings(\"ignore\")"
   ]
  },
  {
   "cell_type": "code",
   "execution_count": 7,
   "metadata": {},
   "outputs": [
    {
     "name": "stdout",
     "output_type": "stream",
     "text": [
      "('The code you provided is a Python script that uses the `pytesseract` library '\n",
      " 'to perform OCR (Optical Character Recognition) on an image. The script first '\n",
      " 'imports the necessary libraries, including `pytesseract`, `cv2`, and `os`.\\n'\n",
      " '\\n'\n",
      " 'The script then defines a function called `read_image` that takes an image '\n",
      " 'file path as input and returns the text recognized from the image using the '\n",
      " '`pytesseract.image_to_string` function.\\n'\n",
      " '\\n'\n",
      " 'Next, the script defines a function called `get_text` that takes a directory '\n",
      " 'path as input and returns a list of text recognized from all the images in '\n",
      " 'the directory. The function uses the `os.walk` function to traverse the '\n",
      " 'directory and its subdirectories, and for each image file it finds, it calls '\n",
      " 'the `read_image` function to recognize the text from the image.\\n'\n",
      " '\\n'\n",
      " 'Finally, the script defines a function called `main` that takes a directory '\n",
      " 'path as input and calls the `get_text` function to recognize the text from '\n",
      " 'all the images in the directory. The function then prints the recognized '\n",
      " 'text to the console.\\n'\n",
      " '\\n'\n",
      " 'The script also includes some error handling code to catch any exceptions '\n",
      " 'that may occur during the OCR process. If an exception occurs, the script '\n",
      " 'prints an error message to the console and exits.\\n'\n",
      " '\\n'\n",
      " 'Overall, the script is a simple example of how to use the `pytesseract` '\n",
      " 'library to perform OCR on images and extract text from them.')\n"
     ]
    }
   ],
   "source": [
    "import os\n",
    "from openai import OpenAI\n",
    "from pprint import pprint\n",
    "\n",
    "client = OpenAI(\n",
    "    api_key=os.environ[\"UPSTAGE_API_KEY\"], base_url=\"https://api.upstage.ai/v1/solar\"\n",
    ")\n",
    "chat_result = client.chat.completions.create(\n",
    "    model=\"solar-1-mini-chat\",\n",
    "    messages=[\n",
    "        {\"role\": \"system\", \"content\": \"Once Upon a Time in A Galaxy Far, Far, Away ...\"},\n",
    "    ],\n",
    ")\n",
    "\n",
    "pprint(chat_result.choices[0].message.content)"
   ]
  },
  {
   "cell_type": "code",
   "execution_count": 8,
   "metadata": {},
   "outputs": [
    {
     "name": "stdout",
     "output_type": "stream",
     "text": [
      "('Yes, there are many good places to visit in Seoul. Some popular tourist '\n",
      " 'attractions include Gyeongbokgung Palace, Bukchon Hanok Village, Myeong-dong '\n",
      " 'shopping district, and the DMZ (Demilitarized Zone) near the border with '\n",
      " 'North Korea. You can also visit the Lotte World Tower, which is the tallest '\n",
      " 'building in South Korea, and offers a great view of the city. Additionally, '\n",
      " 'Seoul has many beautiful parks and gardens, such as Seoul Forest and Yongsan '\n",
      " 'Family Park, where you can enjoy nature and relax.')\n"
     ]
    }
   ],
   "source": [
    "chat_result = client.chat.completions.create(\n",
    "    model=\"solar-1-mini-chat\",\n",
    "    messages=[\n",
    "        {\"role\": \"system\", \"content\": \"Can you tell me good place to vision in Seoul?\"},\n",
    "    ],\n",
    ")\n",
    "\n",
    "pprint(chat_result.choices[0].message.content)"
   ]
  },
  {
   "cell_type": "markdown",
   "metadata": {},
   "source": [
    "![Langchain](figures/langchain.jpg)\n",
    "\n",
    "https://python.langchain.com/v0.1/docs/integrations/providers/upstage/"
   ]
  },
  {
   "cell_type": "code",
   "execution_count": 10,
   "metadata": {},
   "outputs": [
    {
     "data": {
      "text/plain": [
       "AIMessage(content='The best season to learn Korean depends on your personal preferences and goals. Some people may find it easier to learn a new language during the summer when they have more free time, while others may prefer to learn during the winter when they have more indoor time. Ultimately, the most important factor is to find a time that works best for you and to be consistent with your studies.', response_metadata={'token_usage': {'completion_tokens': 80, 'prompt_tokens': 21, 'total_tokens': 101}, 'model_name': 'solar-1-mini-chat', 'system_fingerprint': None, 'finish_reason': 'stop', 'logprobs': None}, id='run-748c516b-c608-4a7e-822b-3aafcba56225-0')"
      ]
     },
     "execution_count": 10,
     "metadata": {},
     "output_type": "execute_result"
    }
   ],
   "source": [
    "# Quick hello world (hye I'm HY)\n",
    "from langchain_upstage import ChatUpstage\n",
    "llm = ChatUpstage()\n",
    "llm.invoke(\"What's the best season to get to Korean?\")"
   ]
  },
  {
   "cell_type": "code",
   "execution_count": 7,
   "metadata": {},
   "outputs": [
    {
     "data": {
      "text/plain": [
       "(1, 4096)"
      ]
     },
     "execution_count": 7,
     "metadata": {},
     "output_type": "execute_result"
    }
   ],
   "source": [
    "from langchain_upstage import UpstageEmbeddings\n",
    "\n",
    "embeddings_model = UpstageEmbeddings(model=\"solar-embedding-1-large\")\n",
    "embeddings = embeddings_model.embed_documents(\n",
    "    [\n",
    "        \"Whay is the best season to visit Korea?\",\n",
    "    ])\n",
    "\n",
    "len(embeddings), len(embeddings[0])"
   ]
  }
 ],
 "metadata": {
  "kernelspec": {
   "display_name": ".venv",
   "language": "python",
   "name": "python3"
  },
  "language_info": {
   "codemirror_mode": {
    "name": "ipython",
    "version": 3
   },
   "file_extension": ".py",
   "mimetype": "text/x-python",
   "name": "python",
   "nbconvert_exporter": "python",
   "pygments_lexer": "ipython3",
   "version": "3.12.3"
  }
 },
 "nbformat": 4,
 "nbformat_minor": 2
}
