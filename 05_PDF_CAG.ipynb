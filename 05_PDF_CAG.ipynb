{
 "cells": [
  {
   "cell_type": "code",
   "execution_count": 1,
   "metadata": {},
   "outputs": [],
   "source": [
    "! pip3 install -qU langchain-upstage pypdf"
   ]
  },
  {
   "cell_type": "code",
   "execution_count": 6,
   "metadata": {},
   "outputs": [
    {
     "name": "stdout",
     "output_type": "stream",
     "text": [
      "Collecting langchain_community\n",
      "  Downloading langchain_community-0.0.38-py3-none-any.whl.metadata (8.7 kB)\n",
      "Requirement already satisfied: PyYAML>=5.3 in c:\\users\\hy lee\\appdata\\local\\programs\\python\\python312\\lib\\site-packages (from langchain_community) (6.0.1)\n",
      "Collecting SQLAlchemy<3,>=1.4 (from langchain_community)\n",
      "  Downloading SQLAlchemy-2.0.30-cp312-cp312-win_amd64.whl.metadata (9.8 kB)\n",
      "Collecting aiohttp<4.0.0,>=3.8.3 (from langchain_community)\n",
      "  Downloading aiohttp-3.9.5-cp312-cp312-win_amd64.whl.metadata (7.7 kB)\n",
      "Collecting dataclasses-json<0.7,>=0.5.7 (from langchain_community)\n",
      "  Downloading dataclasses_json-0.6.6-py3-none-any.whl.metadata (25 kB)\n",
      "Requirement already satisfied: langchain-core<0.2.0,>=0.1.52 in c:\\users\\hy lee\\appdata\\local\\programs\\python\\python312\\lib\\site-packages (from langchain_community) (0.1.52)\n",
      "Requirement already satisfied: langsmith<0.2.0,>=0.1.0 in c:\\users\\hy lee\\appdata\\local\\programs\\python\\python312\\lib\\site-packages (from langchain_community) (0.1.59)\n",
      "Collecting numpy<2,>=1 (from langchain_community)\n",
      "  Downloading numpy-1.26.4-cp312-cp312-win_amd64.whl.metadata (61 kB)\n",
      "     ---------------------------------------- 0.0/61.0 kB ? eta -:--:--\n",
      "     ---------------------------------------- 61.0/61.0 kB 1.6 MB/s eta 0:00:00\n",
      "Requirement already satisfied: requests<3,>=2 in c:\\users\\hy lee\\appdata\\local\\programs\\python\\python312\\lib\\site-packages (from langchain_community) (2.31.0)\n",
      "Requirement already satisfied: tenacity<9.0.0,>=8.1.0 in c:\\users\\hy lee\\appdata\\local\\programs\\python\\python312\\lib\\site-packages (from langchain_community) (8.3.0)\n",
      "Collecting aiosignal>=1.1.2 (from aiohttp<4.0.0,>=3.8.3->langchain_community)\n",
      "  Downloading aiosignal-1.3.1-py3-none-any.whl.metadata (4.0 kB)\n",
      "Requirement already satisfied: attrs>=17.3.0 in c:\\users\\hy lee\\appdata\\local\\programs\\python\\python312\\lib\\site-packages (from aiohttp<4.0.0,>=3.8.3->langchain_community) (23.2.0)\n",
      "Collecting frozenlist>=1.1.1 (from aiohttp<4.0.0,>=3.8.3->langchain_community)\n",
      "  Downloading frozenlist-1.4.1-cp312-cp312-win_amd64.whl.metadata (12 kB)\n",
      "Collecting multidict<7.0,>=4.5 (from aiohttp<4.0.0,>=3.8.3->langchain_community)\n",
      "  Downloading multidict-6.0.5-cp312-cp312-win_amd64.whl.metadata (4.3 kB)\n",
      "Collecting yarl<2.0,>=1.0 (from aiohttp<4.0.0,>=3.8.3->langchain_community)\n",
      "  Downloading yarl-1.9.4-cp312-cp312-win_amd64.whl.metadata (32 kB)\n",
      "Collecting marshmallow<4.0.0,>=3.18.0 (from dataclasses-json<0.7,>=0.5.7->langchain_community)\n",
      "  Downloading marshmallow-3.21.2-py3-none-any.whl.metadata (7.1 kB)\n",
      "Collecting typing-inspect<1,>=0.4.0 (from dataclasses-json<0.7,>=0.5.7->langchain_community)\n",
      "  Downloading typing_inspect-0.9.0-py3-none-any.whl.metadata (1.5 kB)\n",
      "Requirement already satisfied: jsonpatch<2.0,>=1.33 in c:\\users\\hy lee\\appdata\\local\\programs\\python\\python312\\lib\\site-packages (from langchain-core<0.2.0,>=0.1.52->langchain_community) (1.33)\n",
      "Requirement already satisfied: packaging<24.0,>=23.2 in c:\\users\\hy lee\\appdata\\local\\programs\\python\\python312\\lib\\site-packages (from langchain-core<0.2.0,>=0.1.52->langchain_community) (23.2)\n",
      "Requirement already satisfied: pydantic<3,>=1 in c:\\users\\hy lee\\appdata\\local\\programs\\python\\python312\\lib\\site-packages (from langchain-core<0.2.0,>=0.1.52->langchain_community) (2.7.1)\n",
      "Requirement already satisfied: orjson<4.0.0,>=3.9.14 in c:\\users\\hy lee\\appdata\\local\\programs\\python\\python312\\lib\\site-packages (from langsmith<0.2.0,>=0.1.0->langchain_community) (3.10.3)\n",
      "Requirement already satisfied: charset-normalizer<4,>=2 in c:\\users\\hy lee\\appdata\\local\\programs\\python\\python312\\lib\\site-packages (from requests<3,>=2->langchain_community) (3.3.2)\n",
      "Requirement already satisfied: idna<4,>=2.5 in c:\\users\\hy lee\\appdata\\local\\programs\\python\\python312\\lib\\site-packages (from requests<3,>=2->langchain_community) (3.7)\n",
      "Requirement already satisfied: urllib3<3,>=1.21.1 in c:\\users\\hy lee\\appdata\\local\\programs\\python\\python312\\lib\\site-packages (from requests<3,>=2->langchain_community) (2.2.1)\n",
      "Requirement already satisfied: certifi>=2017.4.17 in c:\\users\\hy lee\\appdata\\local\\programs\\python\\python312\\lib\\site-packages (from requests<3,>=2->langchain_community) (2024.2.2)\n",
      "Requirement already satisfied: typing-extensions>=4.6.0 in c:\\users\\hy lee\\appdata\\local\\programs\\python\\python312\\lib\\site-packages (from SQLAlchemy<3,>=1.4->langchain_community) (4.11.0)\n",
      "Collecting greenlet!=0.4.17 (from SQLAlchemy<3,>=1.4->langchain_community)\n",
      "  Downloading greenlet-3.0.3-cp312-cp312-win_amd64.whl.metadata (3.9 kB)\n",
      "Requirement already satisfied: jsonpointer>=1.9 in c:\\users\\hy lee\\appdata\\local\\programs\\python\\python312\\lib\\site-packages (from jsonpatch<2.0,>=1.33->langchain-core<0.2.0,>=0.1.52->langchain_community) (2.4)\n",
      "Requirement already satisfied: annotated-types>=0.4.0 in c:\\users\\hy lee\\appdata\\local\\programs\\python\\python312\\lib\\site-packages (from pydantic<3,>=1->langchain-core<0.2.0,>=0.1.52->langchain_community) (0.6.0)\n",
      "Requirement already satisfied: pydantic-core==2.18.2 in c:\\users\\hy lee\\appdata\\local\\programs\\python\\python312\\lib\\site-packages (from pydantic<3,>=1->langchain-core<0.2.0,>=0.1.52->langchain_community) (2.18.2)\n",
      "Collecting mypy-extensions>=0.3.0 (from typing-inspect<1,>=0.4.0->dataclasses-json<0.7,>=0.5.7->langchain_community)\n",
      "  Downloading mypy_extensions-1.0.0-py3-none-any.whl.metadata (1.1 kB)\n",
      "Downloading langchain_community-0.0.38-py3-none-any.whl (2.0 MB)\n",
      "   ---------------------------------------- 0.0/2.0 MB ? eta -:--:--\n",
      "   ---- ----------------------------------- 0.2/2.0 MB 6.9 MB/s eta 0:00:01\n",
      "   ------- -------------------------------- 0.4/2.0 MB 4.6 MB/s eta 0:00:01\n",
      "   ------------ --------------------------- 0.6/2.0 MB 4.8 MB/s eta 0:00:01\n",
      "   ------------- -------------------------- 0.7/2.0 MB 4.2 MB/s eta 0:00:01\n",
      "   ----------------- ---------------------- 0.9/2.0 MB 3.9 MB/s eta 0:00:01\n",
      "   ------------------- -------------------- 1.0/2.0 MB 4.3 MB/s eta 0:00:01\n",
      "   --------------------- ------------------ 1.1/2.0 MB 3.4 MB/s eta 0:00:01\n",
      "   ------------------------ --------------- 1.2/2.0 MB 3.4 MB/s eta 0:00:01\n",
      "   ---------------------------- ----------- 1.4/2.0 MB 3.5 MB/s eta 0:00:01\n",
      "   ------------------------------- -------- 1.6/2.0 MB 3.5 MB/s eta 0:00:01\n",
      "   ----------------------------------- ---- 1.8/2.0 MB 3.5 MB/s eta 0:00:01\n",
      "   ---------------------------------------  2.0/2.0 MB 3.6 MB/s eta 0:00:01\n",
      "   ---------------------------------------- 2.0/2.0 MB 3.6 MB/s eta 0:00:00\n",
      "Downloading aiohttp-3.9.5-cp312-cp312-win_amd64.whl (369 kB)\n",
      "   ---------------------------------------- 0.0/369.0 kB ? eta -:--:--\n",
      "   --------------------- ------------------ 194.6/369.0 kB 5.9 MB/s eta 0:00:01\n",
      "   ---------------------------------------- 369.0/369.0 kB 3.8 MB/s eta 0:00:00\n",
      "Downloading dataclasses_json-0.6.6-py3-none-any.whl (28 kB)\n",
      "Downloading numpy-1.26.4-cp312-cp312-win_amd64.whl (15.5 MB)\n",
      "   ---------------------------------------- 0.0/15.5 MB ? eta -:--:--\n",
      "   ---------------------------------------- 0.2/15.5 MB 3.5 MB/s eta 0:00:05\n",
      "    --------------------------------------- 0.3/15.5 MB 4.0 MB/s eta 0:00:04\n",
      "   - -------------------------------------- 0.5/15.5 MB 3.6 MB/s eta 0:00:05\n",
      "   - -------------------------------------- 0.7/15.5 MB 3.5 MB/s eta 0:00:05\n",
      "   -- ------------------------------------- 0.8/15.5 MB 3.5 MB/s eta 0:00:05\n",
      "   -- ------------------------------------- 1.0/15.5 MB 3.6 MB/s eta 0:00:05\n",
      "   --- ------------------------------------ 1.2/15.5 MB 3.8 MB/s eta 0:00:04\n",
      "   --- ------------------------------------ 1.4/15.5 MB 3.8 MB/s eta 0:00:04\n",
      "   ---- ----------------------------------- 1.6/15.5 MB 3.9 MB/s eta 0:00:04\n",
      "   ---- ----------------------------------- 1.7/15.5 MB 3.9 MB/s eta 0:00:04\n",
      "   ---- ----------------------------------- 1.8/15.5 MB 3.6 MB/s eta 0:00:04\n",
      "   ----- ---------------------------------- 2.0/15.5 MB 3.6 MB/s eta 0:00:04\n",
      "   ----- ---------------------------------- 2.1/15.5 MB 3.6 MB/s eta 0:00:04\n",
      "   ----- ---------------------------------- 2.2/15.5 MB 3.4 MB/s eta 0:00:04\n",
      "   ----- ---------------------------------- 2.3/15.5 MB 3.4 MB/s eta 0:00:04\n",
      "   ------ --------------------------------- 2.5/15.5 MB 3.4 MB/s eta 0:00:04\n",
      "   ------ --------------------------------- 2.7/15.5 MB 3.4 MB/s eta 0:00:04\n",
      "   ------- -------------------------------- 2.9/15.5 MB 3.4 MB/s eta 0:00:04\n",
      "   ------- -------------------------------- 3.1/15.5 MB 3.5 MB/s eta 0:00:04\n",
      "   -------- ------------------------------- 3.2/15.5 MB 3.5 MB/s eta 0:00:04\n",
      "   -------- ------------------------------- 3.5/15.5 MB 3.6 MB/s eta 0:00:04\n",
      "   --------- ------------------------------ 3.7/15.5 MB 3.6 MB/s eta 0:00:04\n",
      "   --------- ------------------------------ 3.9/15.5 MB 3.6 MB/s eta 0:00:04\n",
      "   ---------- ----------------------------- 4.1/15.5 MB 3.6 MB/s eta 0:00:04\n",
      "   ---------- ----------------------------- 4.2/15.5 MB 3.6 MB/s eta 0:00:04\n",
      "   ----------- ---------------------------- 4.4/15.5 MB 3.6 MB/s eta 0:00:04\n",
      "   ----------- ---------------------------- 4.6/15.5 MB 3.6 MB/s eta 0:00:04\n",
      "   ------------ --------------------------- 4.8/15.5 MB 3.5 MB/s eta 0:00:04\n",
      "   ------------ --------------------------- 5.0/15.5 MB 3.5 MB/s eta 0:00:03\n",
      "   ------------- -------------------------- 5.2/15.5 MB 3.5 MB/s eta 0:00:03\n",
      "   ------------- -------------------------- 5.4/15.5 MB 3.5 MB/s eta 0:00:03\n",
      "   -------------- ------------------------- 5.6/15.5 MB 3.6 MB/s eta 0:00:03\n",
      "   --------------- ------------------------ 5.9/15.5 MB 3.6 MB/s eta 0:00:03\n",
      "   --------------- ------------------------ 6.1/15.5 MB 3.6 MB/s eta 0:00:03\n",
      "   ---------------- ----------------------- 6.3/15.5 MB 3.6 MB/s eta 0:00:03\n",
      "   ---------------- ----------------------- 6.4/15.5 MB 3.6 MB/s eta 0:00:03\n",
      "   ---------------- ----------------------- 6.6/15.5 MB 3.6 MB/s eta 0:00:03\n",
      "   ----------------- ---------------------- 6.7/15.5 MB 3.6 MB/s eta 0:00:03\n",
      "   ----------------- ---------------------- 6.9/15.5 MB 3.5 MB/s eta 0:00:03\n",
      "   ------------------ --------------------- 7.1/15.5 MB 3.5 MB/s eta 0:00:03\n",
      "   ------------------ --------------------- 7.3/15.5 MB 3.6 MB/s eta 0:00:03\n",
      "   ------------------- -------------------- 7.4/15.5 MB 3.6 MB/s eta 0:00:03\n",
      "   ------------------- -------------------- 7.6/15.5 MB 3.6 MB/s eta 0:00:03\n",
      "   -------------------- ------------------- 7.8/15.5 MB 3.6 MB/s eta 0:00:03\n",
      "   -------------------- ------------------- 8.0/15.5 MB 3.6 MB/s eta 0:00:03\n",
      "   --------------------- ------------------ 8.2/15.5 MB 3.6 MB/s eta 0:00:03\n",
      "   --------------------- ------------------ 8.4/15.5 MB 3.7 MB/s eta 0:00:02\n",
      "   --------------------- ------------------ 8.5/15.5 MB 3.6 MB/s eta 0:00:02\n",
      "   ---------------------- ----------------- 8.7/15.5 MB 3.6 MB/s eta 0:00:02\n",
      "   ---------------------- ----------------- 8.8/15.5 MB 3.6 MB/s eta 0:00:02\n",
      "   ----------------------- ---------------- 8.9/15.5 MB 3.6 MB/s eta 0:00:02\n",
      "   ----------------------- ---------------- 9.0/15.5 MB 3.6 MB/s eta 0:00:02\n",
      "   ----------------------- ---------------- 9.1/15.5 MB 3.5 MB/s eta 0:00:02\n",
      "   ------------------------ --------------- 9.3/15.5 MB 3.5 MB/s eta 0:00:02\n",
      "   ------------------------ --------------- 9.5/15.5 MB 3.6 MB/s eta 0:00:02\n",
      "   ------------------------ --------------- 9.7/15.5 MB 3.6 MB/s eta 0:00:02\n",
      "   ------------------------- -------------- 9.9/15.5 MB 3.6 MB/s eta 0:00:02\n",
      "   ------------------------- -------------- 10.1/15.5 MB 3.6 MB/s eta 0:00:02\n",
      "   -------------------------- ------------- 10.2/15.5 MB 3.6 MB/s eta 0:00:02\n",
      "   -------------------------- ------------- 10.4/15.5 MB 3.6 MB/s eta 0:00:02\n",
      "   --------------------------- ------------ 10.6/15.5 MB 3.6 MB/s eta 0:00:02\n",
      "   --------------------------- ------------ 10.7/15.5 MB 3.6 MB/s eta 0:00:02\n",
      "   ---------------------------- ----------- 10.9/15.5 MB 3.6 MB/s eta 0:00:02\n",
      "   ---------------------------- ----------- 11.0/15.5 MB 3.6 MB/s eta 0:00:02\n",
      "   ---------------------------- ----------- 11.2/15.5 MB 3.6 MB/s eta 0:00:02\n",
      "   ---------------------------- ----------- 11.2/15.5 MB 3.5 MB/s eta 0:00:02\n",
      "   ----------------------------- ---------- 11.3/15.5 MB 3.5 MB/s eta 0:00:02\n",
      "   ----------------------------- ---------- 11.5/15.5 MB 3.5 MB/s eta 0:00:02\n",
      "   ------------------------------ --------- 11.7/15.5 MB 3.5 MB/s eta 0:00:02\n",
      "   ------------------------------ --------- 11.9/15.5 MB 3.5 MB/s eta 0:00:02\n",
      "   ------------------------------- -------- 12.1/15.5 MB 3.6 MB/s eta 0:00:01\n",
      "   ------------------------------- -------- 12.3/15.5 MB 3.6 MB/s eta 0:00:01\n",
      "   -------------------------------- ------- 12.4/15.5 MB 3.6 MB/s eta 0:00:01\n",
      "   -------------------------------- ------- 12.5/15.5 MB 3.6 MB/s eta 0:00:01\n",
      "   -------------------------------- ------- 12.7/15.5 MB 3.6 MB/s eta 0:00:01\n",
      "   --------------------------------- ------ 12.9/15.5 MB 3.6 MB/s eta 0:00:01\n",
      "   --------------------------------- ------ 13.1/15.5 MB 3.6 MB/s eta 0:00:01\n",
      "   ---------------------------------- ----- 13.3/15.5 MB 3.6 MB/s eta 0:00:01\n",
      "   ---------------------------------- ----- 13.4/15.5 MB 3.6 MB/s eta 0:00:01\n",
      "   ----------------------------------- ---- 13.6/15.5 MB 3.6 MB/s eta 0:00:01\n",
      "   ----------------------------------- ---- 13.8/15.5 MB 3.6 MB/s eta 0:00:01\n",
      "   ------------------------------------ --- 14.0/15.5 MB 3.6 MB/s eta 0:00:01\n",
      "   ------------------------------------ --- 14.2/15.5 MB 3.6 MB/s eta 0:00:01\n",
      "   ------------------------------------- -- 14.4/15.5 MB 3.6 MB/s eta 0:00:01\n",
      "   ------------------------------------- -- 14.6/15.5 MB 3.6 MB/s eta 0:00:01\n",
      "   -------------------------------------- - 14.8/15.5 MB 3.6 MB/s eta 0:00:01\n",
      "   -------------------------------------- - 15.0/15.5 MB 3.7 MB/s eta 0:00:01\n",
      "   ---------------------------------------  15.2/15.5 MB 3.7 MB/s eta 0:00:01\n",
      "   ---------------------------------------  15.4/15.5 MB 3.7 MB/s eta 0:00:01\n",
      "   ---------------------------------------  15.5/15.5 MB 3.7 MB/s eta 0:00:01\n",
      "   ---------------------------------------- 15.5/15.5 MB 3.6 MB/s eta 0:00:00\n",
      "Downloading SQLAlchemy-2.0.30-cp312-cp312-win_amd64.whl (2.1 MB)\n",
      "   ---------------------------------------- 0.0/2.1 MB ? eta -:--:--\n",
      "   -- ------------------------------------- 0.1/2.1 MB 3.6 MB/s eta 0:00:01\n",
      "   ---- ----------------------------------- 0.2/2.1 MB 3.0 MB/s eta 0:00:01\n",
      "   -------- ------------------------------- 0.4/2.1 MB 3.4 MB/s eta 0:00:01\n",
      "   ------------ --------------------------- 0.7/2.1 MB 3.8 MB/s eta 0:00:01\n",
      "   --------------- ------------------------ 0.8/2.1 MB 3.7 MB/s eta 0:00:01\n",
      "   ------------------ --------------------- 1.0/2.1 MB 3.6 MB/s eta 0:00:01\n",
      "   ---------------------- ----------------- 1.2/2.1 MB 3.7 MB/s eta 0:00:01\n",
      "   -------------------------- ------------- 1.4/2.1 MB 3.8 MB/s eta 0:00:01\n",
      "   ------------------------------ --------- 1.6/2.1 MB 3.9 MB/s eta 0:00:01\n",
      "   --------------------------------- ------ 1.7/2.1 MB 3.9 MB/s eta 0:00:01\n",
      "   ------------------------------------- -- 2.0/2.1 MB 3.9 MB/s eta 0:00:01\n",
      "   ---------------------------------------- 2.1/2.1 MB 3.8 MB/s eta 0:00:00\n",
      "Downloading aiosignal-1.3.1-py3-none-any.whl (7.6 kB)\n",
      "Downloading frozenlist-1.4.1-cp312-cp312-win_amd64.whl (50 kB)\n",
      "   ---------------------------------------- 0.0/50.5 kB ? eta -:--:--\n",
      "   ---------------------------------------- 50.5/50.5 kB 1.3 MB/s eta 0:00:00\n",
      "Downloading greenlet-3.0.3-cp312-cp312-win_amd64.whl (293 kB)\n",
      "   ---------------------------------------- 0.0/293.6 kB ? eta -:--:--\n",
      "   ------------------------------ --------- 225.3/293.6 kB 4.7 MB/s eta 0:00:01\n",
      "   ---------------------------------------- 293.6/293.6 kB 4.6 MB/s eta 0:00:00\n",
      "Downloading marshmallow-3.21.2-py3-none-any.whl (49 kB)\n",
      "   ---------------------------------------- 0.0/49.3 kB ? eta -:--:--\n",
      "   ---------------------------------------- 49.3/49.3 kB 1.3 MB/s eta 0:00:00\n",
      "Downloading multidict-6.0.5-cp312-cp312-win_amd64.whl (27 kB)\n",
      "Downloading typing_inspect-0.9.0-py3-none-any.whl (8.8 kB)\n",
      "Downloading yarl-1.9.4-cp312-cp312-win_amd64.whl (76 kB)\n",
      "   ---------------------------------------- 0.0/76.4 kB ? eta -:--:--\n",
      "   ---------------------------------------- 76.4/76.4 kB 4.1 MB/s eta 0:00:00\n",
      "Downloading mypy_extensions-1.0.0-py3-none-any.whl (4.7 kB)\n",
      "Installing collected packages: numpy, mypy-extensions, multidict, marshmallow, greenlet, frozenlist, yarl, typing-inspect, SQLAlchemy, aiosignal, dataclasses-json, aiohttp, langchain_community\n",
      "Successfully installed SQLAlchemy-2.0.30 aiohttp-3.9.5 aiosignal-1.3.1 dataclasses-json-0.6.6 frozenlist-1.4.1 greenlet-3.0.3 langchain_community-0.0.38 marshmallow-3.21.2 multidict-6.0.5 mypy-extensions-1.0.0 numpy-1.26.4 typing-inspect-0.9.0 yarl-1.9.4\n"
     ]
    }
   ],
   "source": [
    "! pip3 install langchain_community"
   ]
  },
  {
   "cell_type": "code",
   "execution_count": 7,
   "metadata": {},
   "outputs": [
    {
     "name": "stdout",
     "output_type": "stream",
     "text": [
      "The dotenv extension is already loaded. To reload it, use:\n",
      "  %reload_ext dotenv\n"
     ]
    }
   ],
   "source": [
    "\n",
    "%load_ext dotenv\n",
    "%dotenv\n",
    "# set UPSTAGE_API_KEY"
   ]
  },
  {
   "cell_type": "code",
   "execution_count": 8,
   "metadata": {},
   "outputs": [],
   "source": [
    "import warnings\n",
    "\n",
    "warnings.filterwarnings(\"ignore\")"
   ]
  },
  {
   "cell_type": "markdown",
   "metadata": {},
   "source": [
    "![SolarSample](figures/solar_sample.png)"
   ]
  },
  {
   "cell_type": "code",
   "execution_count": 9,
   "metadata": {},
   "outputs": [
    {
     "name": "stderr",
     "output_type": "stream",
     "text": [
      "Ignoring wrong pointing object 8 0 (offset 0)\n"
     ]
    },
    {
     "name": "stdout",
     "output_type": "stream",
     "text": [
      "Model Size Type H6 (Avg.) ARC HellaSwag MMLU TruthfulQA Winogrande GSM8KSOLAR 10.7B-Instruct⇠11BAlignment-tuned74.2071.0888.1666.2171.4383.5864.75Qwen 72B⇠72B Pretrained 73.60 65.19 85.9477.3760.19 82.4870.43Mixtral 8x7B-Instruct-v0.1⇠47B Instruction-tuned 72.62 70.22 87.63 71.16 64.58 81.37 60.73Yi 34B-200K⇠34B Pretrained 70.81 65.36 85.58 76.06 53.64 82.56 61.64Yi 34B⇠34B Pretrained 69.42 64.59 85.69 76.35 56.23 83.03 50.64Mixtral 8x7B-v0.1⇠47B Pretrained 68.42 66.04 86.49 71.82 46.78 81.93 57.47Llama 2 70B⇠70B Pretrained 67.87 67.32 87.33 69.83 44.92 83.74 54.06Falcon 180B⇠180B Pretrained 67.85 69.4588.8670.50 45.4786.9045.94SOLAR 10.7B⇠11BPretrained66.0461.9584.6065.4845.0483.6655.50Qwen 14B⇠14B Pretrained 65.86 58.28 83.99 67.70 49.43 76.80 58.98Mistral 7B-Instruct-v0.2⇠7B Instruction-tuned 65.71 63.14 84.88 60.78 68.26 77.19 40.03Yi 34B-Chat⇠34B Instruction-tuned 65.32 65.44 84.16 74.90 55.37 80.11 31.92Mistral 7B⇠7B Pretrained 60.97 59.98 83.31 64.16 42.15 78.37 37.83Table 2: Ev\n"
     ]
    }
   ],
   "source": [
    "from langchain_community.document_loaders import PyPDFLoader\n",
    "\n",
    "loader = PyPDFLoader(\"pdfs/solar_sample.pdf\")\n",
    "docs = loader.load()  # or layzer.lazy_load()\n",
    "print(docs[0].page_content[:1000]) # 표때문에 error. pdf에 text만 있는 건 아니니."
   ]
  },
  {
   "cell_type": "code",
   "execution_count": 10,
   "metadata": {},
   "outputs": [],
   "source": [
    "from langchain_core.prompts import PromptTemplate\n",
    "from langchain_core.output_parsers import StrOutputParser\n",
    "from langchain_upstage import ChatUpstage\n",
    "\n",
    "\n",
    "llm = ChatUpstage()\n",
    "\n",
    "prompt_template = PromptTemplate.from_template(\n",
    "    \"\"\"\n",
    "    Please provide most correct answer from the following context. \n",
    "    If the answer is not present in the context, please write \"The information is not present in the context.\"\n",
    "    ---\n",
    "    Question: {question}\n",
    "    ---\n",
    "    Context: {Context}\n",
    "    \"\"\"\n",
    ")\n",
    "chain = prompt_template | llm | StrOutputParser()"
   ]
  },
  {
   "cell_type": "code",
   "execution_count": 11,
   "metadata": {},
   "outputs": [
    {
     "data": {
      "text/plain": [
       "'Table 2 in the context provided is the evaluation results in the Open LLM Leaderboard for SOLAR 10.7B and SOLAR 10.7B-Instruct along with other top-performing models. The table reports the scores for six tasks mentioned in Sec. 4.1, along with the H6 score (average of six tasks). The table also reports the size of the models in units of billions of parameters and the type of training stage of the model, which is chosen from {Pretrained, Instruction-tuned, Alignment-tuned}. The best scores for H6 and the individual tasks are shown in bold. The models based on SOLAR 10.7B are colored purple.'"
      ]
     },
     "execution_count": 11,
     "metadata": {},
     "output_type": "execute_result"
    }
   ],
   "source": [
    "chain.invoke({\"question\": \"Explain Table 2?\", \"Context\": docs})"
   ]
  },
  {
   "cell_type": "code",
   "execution_count": 12,
   "metadata": {},
   "outputs": [
    {
     "data": {
      "text/plain": [
       "'The information is not present in the context.'"
      ]
     },
     "execution_count": 12,
     "metadata": {},
     "output_type": "execute_result"
    }
   ],
   "source": [
    "chain.invoke({\"question\": \"What is MMLU scores of SOLAR 10.7B?\", \"Context\": docs}) # 있는데 없대~"
   ]
  },
  {
   "cell_type": "code",
   "execution_count": 13,
   "metadata": {},
   "outputs": [
    {
     "data": {
      "text/plain": [
       "'The information is not present in the context.'"
      ]
     },
     "execution_count": 13,
     "metadata": {},
     "output_type": "execute_result"
    }
   ],
   "source": [
    "chain.invoke({\"question\": \"What is ARC of Mistral?\", \"Context\": docs})"
   ]
  },
  {
   "cell_type": "markdown",
   "metadata": {},
   "source": [
    "# Excercise \n",
    "\n",
    "How can we easily get information from complicated tables for LLMs?"
   ]
  }
 ],
 "metadata": {
  "kernelspec": {
   "display_name": ".venv",
   "language": "python",
   "name": "python3"
  },
  "language_info": {
   "codemirror_mode": {
    "name": "ipython",
    "version": 3
   },
   "file_extension": ".py",
   "mimetype": "text/x-python",
   "name": "python",
   "nbconvert_exporter": "python",
   "pygments_lexer": "ipython3",
   "version": "3.12.3"
  }
 },
 "nbformat": 4,
 "nbformat_minor": 2
}
